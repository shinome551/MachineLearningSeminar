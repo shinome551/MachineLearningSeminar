{
  "nbformat": 4,
  "nbformat_minor": 0,
  "metadata": {
    "colab": {
      "name": "Colab_and_Pytorch.ipynb",
      "provenance": [],
      "collapsed_sections": [],
      "authorship_tag": "ABX9TyOAd4nuMcQyRJB0AIvClnSS",
      "include_colab_link": true
    },
    "kernelspec": {
      "name": "python3",
      "display_name": "Python 3"
    },
    "accelerator": "GPU"
  },
  "cells": [
    {
      "cell_type": "markdown",
      "metadata": {
        "id": "view-in-github",
        "colab_type": "text"
      },
      "source": [
        "<a href=\"https://colab.research.google.com/github/shinome551/MachineLearningSeminar/blob/main/Colab_and_Pytorch.ipynb\" target=\"_parent\"><img src=\"https://colab.research.google.com/assets/colab-badge.svg\" alt=\"Open In Colab\"/></a>"
      ]
    },
    {
      "cell_type": "markdown",
      "metadata": {
        "id": "gPTTJqcZMDEN"
      },
      "source": [
        "# Google Colaboratory"
      ]
    },
    {
      "cell_type": "code",
      "metadata": {
        "colab": {
          "base_uri": "https://localhost:8080/"
        },
        "id": "OsNHYswoJk52",
        "outputId": "f8552abb-8332-4529-e0f9-b699e4681f9a"
      },
      "source": [
        "## コードセル\n",
        "import sys\n",
        "print(sys.version)"
      ],
      "execution_count": null,
      "outputs": [
        {
          "output_type": "stream",
          "text": [
            "3.6.9 (default, Oct  8 2020, 12:12:24) \n",
            "[GCC 8.4.0]\n"
          ],
          "name": "stdout"
        }
      ]
    },
    {
      "cell_type": "markdown",
      "metadata": {
        "id": "LhmSbYwHxB02"
      },
      "source": [
        "# テキストセル\n",
        "ノートブックを公開する場合など、ドキュメントを添えたい時に便利\n",
        "  \n",
        "* セミナーでは使わなくてOK"
      ]
    },
    {
      "cell_type": "code",
      "metadata": {
        "colab": {
          "base_uri": "https://localhost:8080/"
        },
        "id": "x3J3sQ8EFd87",
        "outputId": "04dc3ddc-fdec-4c64-ac8f-913dddc072cb"
      },
      "source": [
        "%%bash\n",
        "pip list | grep -e \"numpy\" -e \"matplotlib\" -e \"torch\""
      ],
      "execution_count": null,
      "outputs": [
        {
          "output_type": "stream",
          "text": [
            "matplotlib                    3.2.2          \n",
            "matplotlib-venn               0.11.6         \n",
            "numpy                         1.18.5         \n",
            "torch                         1.7.0+cu101    \n",
            "torchsummary                  1.5.1          \n",
            "torchtext                     0.3.1          \n",
            "torchvision                   0.8.1+cu101    \n",
            "torchviz                      0.0.1          \n"
          ],
          "name": "stdout"
        }
      ]
    },
    {
      "cell_type": "code",
      "metadata": {
        "id": "nuydnwkKJKYj",
        "colab": {
          "base_uri": "https://localhost:8080/"
        },
        "outputId": "2210e484-e9fe-4c37-d302-82e4332203f3"
      },
      "source": [
        "%%bash\n",
        "nvidia-smi -q | grep \"Product Name\" "
      ],
      "execution_count": null,
      "outputs": [
        {
          "output_type": "stream",
          "text": [
            "    Product Name                          : Tesla T4\n"
          ],
          "name": "stdout"
        }
      ]
    },
    {
      "cell_type": "markdown",
      "metadata": {
        "id": "zBvbtlZLMSq3"
      },
      "source": [
        "# Pytorch"
      ]
    },
    {
      "cell_type": "code",
      "metadata": {
        "id": "afD0pVuDW73I",
        "colab": {
          "base_uri": "https://localhost:8080/"
        },
        "outputId": "84578564-d90b-4124-f9d0-ebe70fe23de4"
      },
      "source": [
        "import torch\n",
        "torch.empty(size=(4,4))"
      ],
      "execution_count": null,
      "outputs": [
        {
          "output_type": "execute_result",
          "data": {
            "text/plain": [
              "tensor([[8.8350e-35, 0.0000e+00, 1.5134e-43, 1.4153e-43],\n",
              "        [1.4433e-43, 1.3593e-43, 1.5134e-43, 4.4842e-44],\n",
              "        [1.6115e-43, 1.4153e-43, 1.4153e-43, 1.4994e-43],\n",
              "        [0.0000e+00, 2.1050e-10, 0.0000e+00, 0.0000e+00]])"
            ]
          },
          "metadata": {
            "tags": []
          },
          "execution_count": 81
        }
      ]
    },
    {
      "cell_type": "code",
      "metadata": {
        "colab": {
          "base_uri": "https://localhost:8080/"
        },
        "id": "kyJMy47MiGUs",
        "outputId": "3850367d-cb89-41ab-e271-06d479fbaf37"
      },
      "source": [
        "mat = torch.rand(1000,1000)\n",
        "%timeit -n 1000 torch.matmul(mat.t(), mat)"
      ],
      "execution_count": null,
      "outputs": [
        {
          "output_type": "stream",
          "text": [
            "1000 loops, best of 3: 25.7 ms per loop\n"
          ],
          "name": "stdout"
        }
      ]
    },
    {
      "cell_type": "code",
      "metadata": {
        "colab": {
          "base_uri": "https://localhost:8080/"
        },
        "id": "QtzqCHxKiHG6",
        "outputId": "dc7c09e7-7746-4548-a9fd-9ac584626f74"
      },
      "source": [
        "mat = torch.rand(1000,1000).to('cuda')\n",
        "%timeit -n 1000 torch.matmul(mat.t(), mat)"
      ],
      "execution_count": null,
      "outputs": [
        {
          "output_type": "stream",
          "text": [
            "1000 loops, best of 3: 298 µs per loop\n"
          ],
          "name": "stdout"
        }
      ]
    },
    {
      "cell_type": "code",
      "metadata": {
        "colab": {
          "base_uri": "https://localhost:8080/",
          "height": 268
        },
        "id": "dFbbQwMOyL_Z",
        "outputId": "e0f789d8-1fc1-4338-b134-09975947ddba"
      },
      "source": [
        "import matplotlib.pyplot as plt\n",
        "import seaborn as sns\n",
        "sns.set()\n",
        "\n",
        "def func(x):\n",
        "    return x ** 4 - 3 * x ** 2 - x + 3\n",
        "\n",
        "x = torch.arange(-2,2,0.1)\n",
        "y = func(x)\n",
        "\n",
        "plt.plot(x,y)\n",
        "plt.show()"
      ],
      "execution_count": null,
      "outputs": [
        {
          "output_type": "display_data",
          "data": {
            "image/png": "[encoded data removed]",
            "text/plain": [
              "<Figure size 432x288 with 1 Axes>"
            ]
          },
          "metadata": {
            "tags": []
          }
        }
      ]
    },
    {
      "cell_type": "code",
      "metadata": {
        "colab": {
          "base_uri": "https://localhost:8080/"
        },
        "id": "dLneiqc4Cs9x",
        "outputId": "9a502e5b-6f17-467c-c31d-519d6510cf08"
      },
      "source": [
        "x = torch.tensor([1.0], requires_grad=True)\n",
        "y = func(x)\n",
        "y.backward()\n",
        "x.grad"
      ],
      "execution_count": null,
      "outputs": [
        {
          "output_type": "execute_result",
          "data": {
            "text/plain": [
              "tensor([-3.])"
            ]
          },
          "metadata": {
            "tags": []
          },
          "execution_count": 16
        }
      ]
    },
    {
      "cell_type": "code",
      "metadata": {
        "id": "HBRIaxuZfuAk",
        "colab": {
          "base_uri": "https://localhost:8080/"
        },
        "outputId": "907bedd6-d59f-4130-a1eb-84c69f75247c"
      },
      "source": [
        "%%bash\n",
        "pip install torchviz"
      ],
      "execution_count": null,
      "outputs": [
        {
          "output_type": "stream",
          "text": [
            "Collecting torchviz\n",
            "  Downloading https://files.pythonhosted.org/packages/8f/8e/a9630c7786b846d08b47714dd363a051f5e37b4ea0e534460d8cdfc1644b/torchviz-0.0.1.tar.gz (41kB)\n",
            "Requirement already satisfied: torch in /usr/local/lib/python3.6/dist-packages (from torchviz) (1.7.0+cu101)\n",
            "Requirement already satisfied: graphviz in /usr/local/lib/python3.6/dist-packages (from torchviz) (0.10.1)\n",
            "Requirement already satisfied: future in /usr/local/lib/python3.6/dist-packages (from torch->torchviz) (0.16.0)\n",
            "Requirement already satisfied: dataclasses in /usr/local/lib/python3.6/dist-packages (from torch->torchviz) (0.8)\n",
            "Requirement already satisfied: typing-extensions in /usr/local/lib/python3.6/dist-packages (from torch->torchviz) (3.7.4.3)\n",
            "Requirement already satisfied: numpy in /usr/local/lib/python3.6/dist-packages (from torch->torchviz) (1.18.5)\n",
            "Building wheels for collected packages: torchviz\n",
            "  Building wheel for torchviz (setup.py): started\n",
            "  Building wheel for torchviz (setup.py): finished with status 'done'\n",
            "  Created wheel for torchviz: filename=torchviz-0.0.1-cp36-none-any.whl size=3520 sha256=1ba35a6f4455398167a7a91d23f12f8bad682830dd2526099e4d99e6b281502e\n",
            "  Stored in directory: /root/.cache/pip/wheels/2a/c2/c5/b8b4d0f7992c735f6db5bfa3c5f354cf36502037ca2b585667\n",
            "Successfully built torchviz\n",
            "Installing collected packages: torchviz\n",
            "Successfully installed torchviz-0.0.1\n"
          ],
          "name": "stdout"
        }
      ]
    },
    {
      "cell_type": "code",
      "metadata": {
        "colab": {
          "base_uri": "https://localhost:8080/",
          "height": 381
        },
        "id": "Sq1rhTjifx5O",
        "outputId": "dd860b77-1622-4706-8c7d-fb325b77eb2c"
      },
      "source": [
        "from torchviz import make_dot\n",
        "make_dot(y, params={'x': x})"
      ],
      "execution_count": null,
      "outputs": [
        {
          "output_type": "execute_result",
          "data": {
            "text/plain": [
              "<graphviz.dot.Digraph at 0x7f432a3aef98>"
            ],
            "image/svg+xml": "<?xml version=\"1.0\" encoding=\"UTF-8\" standalone=\"no\"?>\n<!DOCTYPE svg PUBLIC \"-//W3C//DTD SVG 1.1//EN\"\n \"http://www.w3.org/Graphics/SVG/1.1/DTD/svg11.dtd\">\n<!-- Generated by graphviz version 2.40.1 (20161225.0304)\n -->\n<!-- Title: %3 Pages: 1 -->\n<svg width=\"247pt\" height=\"270pt\"\n viewBox=\"0.00 0.00 246.50 270.00\" xmlns=\"http://www.w3.org/2000/svg\" xmlns:xlink=\"http://www.w3.org/1999/xlink\">\n<g id=\"graph0\" class=\"graph\" transform=\"scale(1 1) rotate(0) translate(4 266)\">\n<title>%3</title>\n<polygon fill=\"#ffffff\" stroke=\"transparent\" points=\"-4,4 -4,-266 242.5,-266 242.5,4 -4,4\"/>\n<!-- 139926287862248 -->\n<g id=\"node1\" class=\"node\">\n<title>139926287862248</title>\n<polygon fill=\"#caff70\" stroke=\"#000000\" points=\"90,-21 0,-21 0,0 90,0 90,-21\"/>\n<text text-anchor=\"middle\" x=\"45\" y=\"-7.4\" font-family=\"Times,serif\" font-size=\"12.00\" fill=\"#000000\">SubBackward0</text>\n</g>\n<!-- 139926448041712 -->\n<g id=\"node2\" class=\"node\">\n<title>139926448041712</title>\n<polygon fill=\"#d3d3d3\" stroke=\"#000000\" points=\"128,-78 38,-78 38,-57 128,-57 128,-78\"/>\n<text text-anchor=\"middle\" x=\"83\" y=\"-64.4\" font-family=\"Times,serif\" font-size=\"12.00\" fill=\"#000000\">SubBackward0</text>\n</g>\n<!-- 139926448041712&#45;&gt;139926287862248 -->\n<g id=\"edge1\" class=\"edge\">\n<title>139926448041712&#45;&gt;139926287862248</title>\n<path fill=\"none\" stroke=\"#000000\" d=\"M75.8525,-56.7787C70.7571,-49.1357 63.7683,-38.6524 57.7306,-29.596\"/>\n<polygon fill=\"#000000\" stroke=\"#000000\" points=\"60.5747,-27.5522 52.1155,-21.1732 54.7503,-31.4352 60.5747,-27.5522\"/>\n</g>\n<!-- 139926136596576 -->\n<g id=\"node3\" class=\"node\">\n<title>139926136596576</title>\n<polygon fill=\"#d3d3d3\" stroke=\"#000000\" points=\"129.5,-135 36.5,-135 36.5,-114 129.5,-114 129.5,-135\"/>\n<text text-anchor=\"middle\" x=\"83\" y=\"-121.4\" font-family=\"Times,serif\" font-size=\"12.00\" fill=\"#000000\">PowBackward0</text>\n</g>\n<!-- 139926136596576&#45;&gt;139926448041712 -->\n<g id=\"edge2\" class=\"edge\">\n<title>139926136596576&#45;&gt;139926448041712</title>\n<path fill=\"none\" stroke=\"#000000\" d=\"M83,-113.7787C83,-106.6134 83,-96.9517 83,-88.3097\"/>\n<polygon fill=\"#000000\" stroke=\"#000000\" points=\"86.5001,-88.1732 83,-78.1732 79.5001,-88.1732 86.5001,-88.1732\"/>\n</g>\n<!-- 139926448041824 -->\n<g id=\"node4\" class=\"node\">\n<title>139926448041824</title>\n<polygon fill=\"#add8e6\" stroke=\"#000000\" points=\"110,-262 56,-262 56,-228 110,-228 110,-262\"/>\n<text text-anchor=\"middle\" x=\"83\" y=\"-248.4\" font-family=\"Times,serif\" font-size=\"12.00\" fill=\"#000000\">x</text>\n<text text-anchor=\"middle\" x=\"83\" y=\"-235.4\" font-family=\"Times,serif\" font-size=\"12.00\" fill=\"#000000\"> (1)</text>\n</g>\n<!-- 139926448041824&#45;&gt;139926287862248 -->\n<g id=\"edge7\" class=\"edge\">\n<title>139926448041824&#45;&gt;139926287862248</title>\n<path fill=\"none\" stroke=\"#000000\" d=\"M70.9202,-227.724C57.1474,-206.8751 35.4484,-170.2167 27,-135 24.0851,-122.8493 24.0772,-83.5649 29,-57 30.6225,-48.2448 33.5786,-38.9053 36.5125,-30.9108\"/>\n<polygon fill=\"#000000\" stroke=\"#000000\" points=\"39.8729,-31.9268 40.2424,-21.3384 33.3505,-29.3853 39.8729,-31.9268\"/>\n</g>\n<!-- 139926448041824&#45;&gt;139926136596576 -->\n<g id=\"edge3\" class=\"edge\">\n<title>139926448041824&#45;&gt;139926136596576</title>\n<path fill=\"none\" stroke=\"#000000\" d=\"M83,-227.9909C83,-206.2477 83,-168.6245 83,-145.2286\"/>\n<polygon fill=\"#000000\" stroke=\"#000000\" points=\"86.5001,-145.018 83,-135.0181 79.5001,-145.0181 86.5001,-145.018\"/>\n</g>\n<!-- 139928170892704 -->\n<g id=\"node6\" class=\"node\">\n<title>139928170892704</title>\n<polygon fill=\"#d3d3d3\" stroke=\"#000000\" points=\"221.5,-192 128.5,-192 128.5,-171 221.5,-171 221.5,-192\"/>\n<text text-anchor=\"middle\" x=\"175\" y=\"-178.4\" font-family=\"Times,serif\" font-size=\"12.00\" fill=\"#000000\">PowBackward0</text>\n</g>\n<!-- 139926448041824&#45;&gt;139928170892704 -->\n<g id=\"edge6\" class=\"edge\">\n<title>139926448041824&#45;&gt;139928170892704</title>\n<path fill=\"none\" stroke=\"#000000\" d=\"M107.6543,-227.9832C121.1894,-218.641 137.8926,-207.1122 151.278,-197.8734\"/>\n<polygon fill=\"#000000\" stroke=\"#000000\" points=\"153.2865,-200.7398 159.5283,-192.1788 149.3102,-194.9788 153.2865,-200.7398\"/>\n</g>\n<!-- 139928170823976 -->\n<g id=\"node5\" class=\"node\">\n<title>139928170823976</title>\n<polygon fill=\"#d3d3d3\" stroke=\"#000000\" points=\"238.5,-135 147.5,-135 147.5,-114 238.5,-114 238.5,-135\"/>\n<text text-anchor=\"middle\" x=\"193\" y=\"-121.4\" font-family=\"Times,serif\" font-size=\"12.00\" fill=\"#000000\">MulBackward0</text>\n</g>\n<!-- 139928170823976&#45;&gt;139926448041712 -->\n<g id=\"edge4\" class=\"edge\">\n<title>139928170823976&#45;&gt;139926448041712</title>\n<path fill=\"none\" stroke=\"#000000\" d=\"M172.5676,-113.9123C155.6655,-105.154 131.4389,-92.6001 112.4427,-82.7567\"/>\n<polygon fill=\"#000000\" stroke=\"#000000\" points=\"113.812,-79.5243 103.3229,-78.031 110.5914,-85.7394 113.812,-79.5243\"/>\n</g>\n<!-- 139928170892704&#45;&gt;139928170823976 -->\n<g id=\"edge5\" class=\"edge\">\n<title>139928170892704&#45;&gt;139928170823976</title>\n<path fill=\"none\" stroke=\"#000000\" d=\"M178.3857,-170.7787C180.6987,-163.4542 183.8354,-153.5211 186.61,-144.7352\"/>\n<polygon fill=\"#000000\" stroke=\"#000000\" points=\"189.9557,-145.763 189.6295,-135.1732 183.2806,-143.655 189.9557,-145.763\"/>\n</g>\n</g>\n</svg>\n"
          },
          "metadata": {
            "tags": []
          },
          "execution_count": 10
        }
      ]
    },
    {
      "cell_type": "code",
      "metadata": {
        "colab": {
          "base_uri": "https://localhost:8080/",
          "height": 285
        },
        "id": "Qao1VYyF12GX",
        "outputId": "cc16a8bc-104e-47a7-fbe9-44a61e0e35f5"
      },
      "source": [
        "x = torch.arange(-1, 1, 0.1)\n",
        "x_sample = x[torch.randperm(len(x))[:6]]\n",
        "f_x = 2 * x_sample + 1 \n",
        "y = f_x + 0.7 * torch.randn_like(f_x)\n",
        "\n",
        "plt.scatter(x_sample, y)\n",
        "plt.xlabel(\"x\")\n",
        "plt.ylabel(\"y\")\n",
        "plt.ylim(-1.5, 3.5)\n",
        "plt.xlim(-1.5, 1.5)\n",
        "plt.show()"
      ],
      "execution_count": null,
      "outputs": [
        {
          "output_type": "display_data",
          "data": {
            "image/png": "[encoded data removed]",
            "text/plain": [
              "<Figure size 432x288 with 1 Axes>"
            ]
          },
          "metadata": {
            "tags": []
          }
        }
      ]
    },
    {
      "cell_type": "code",
      "metadata": {
        "colab": {
          "base_uri": "https://localhost:8080/"
        },
        "id": "x8fNgNWoyxoG",
        "outputId": "26ddad9d-6f64-4d57-c147-f53a7cbc690d"
      },
      "source": [
        "w = torch.randn(2, requires_grad=True)\n",
        "lr = 0.1\n",
        "loss_list = []\n",
        "w_list = [w.data.tolist()]\n",
        "for i in range(100):\n",
        "    f_w = w[1] * x_sample + w[0]\n",
        "    loss = torch.mean((y - f_w) ** 2)\n",
        "    loss.backward()\n",
        "    with torch.no_grad():\n",
        "        w -= lr * w.grad\n",
        "    w.grad.zero_()\n",
        "    w_list.append(w.data.tolist())\n",
        "    loss_list.append(loss.item())\n",
        "    if len(loss_list) > 1 and abs(loss_list[-1] - loss_list[-2]) < 0.01:\n",
        "        print(f\"iter:{i}, weight:{w.data.tolist()}, loss:{loss_list[-1]}\")\n",
        "        break"
      ],
      "execution_count": null,
      "outputs": [
        {
          "output_type": "stream",
          "text": [
            "iter:20, weight:[1.042385220527649, 2.2587053775787354], loss:0.620783269405365\n"
          ],
          "name": "stdout"
        }
      ]
    },
    {
      "cell_type": "code",
      "metadata": {
        "colab": {
          "base_uri": "https://localhost:8080/",
          "height": 285
        },
        "id": "NCt2yHcr3jeg",
        "outputId": "5e4ca53c-20c7-45bc-f1d9-24588b9b1767"
      },
      "source": [
        "plt.scatter(x_sample, y)\n",
        "for i in range(len(w_list)):\n",
        "    plt.plot(x, w_list[i][1]*x+w_list[i][0], alpha=0.3+(0.7*i/len(w_list)), color='r')\n",
        "plt.xlabel(\"x\")\n",
        "plt.ylabel(\"y\")\n",
        "plt.ylim(-1.5, 3.5)\n",
        "plt.xlim(-1.5, 1.5)\n",
        "plt.show()"
      ],
      "execution_count": null,
      "outputs": [
        {
          "output_type": "display_data",
          "data": {
            "image/png": "[encoded data removed]",
            "text/plain": [
              "<Figure size 432x288 with 1 Axes>"
            ]
          },
          "metadata": {
            "tags": []
          }
        }
      ]
    },
    {
      "cell_type": "code",
      "metadata": {
        "colab": {
          "base_uri": "https://localhost:8080/",
          "height": 285
        },
        "id": "-PJH8evL5yP4",
        "outputId": "7b954570-fb73-4003-de58-b2182639af87"
      },
      "source": [
        "for i in range(len(w_list)):\n",
        "    plt.scatter(w_list[i][0], w_list[i][1], alpha=0.3+(0.7*(i+1)/len(w_list)), color='r')\n",
        "plt.xlabel(\"w0\")\n",
        "plt.ylabel(\"w1\")\n",
        "plt.show()"
      ],
      "execution_count": null,
      "outputs": [
        {
          "output_type": "display_data",
          "data": {
            "image/png": "[encoded data removed]",
            "text/plain": [
              "<Figure size 432x288 with 1 Axes>"
            ]
          },
          "metadata": {
            "tags": []
          }
        }
      ]
    },
    {
      "cell_type": "code",
      "metadata": {
        "id": "mzTEo5JYMXba"
      },
      "source": [
        ""
      ],
      "execution_count": null,
      "outputs": []
    }
  ]
}