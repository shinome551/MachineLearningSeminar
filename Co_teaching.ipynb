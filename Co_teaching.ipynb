{
  "nbformat": 4,
  "nbformat_minor": 0,
  "metadata": {
    "colab": {
      "name": "Co_teaching.ipynb",
      "provenance": [],
      "collapsed_sections": [],
      "authorship_tag": "ABX9TyNovNfPLAn1g56d4MpWJJHT",
      "include_colab_link": true
    },
    "kernelspec": {
      "name": "python3",
      "display_name": "Python 3"
    },
    "accelerator": "GPU"
  },
  "cells": [
    {
      "cell_type": "markdown",
      "metadata": {
        "id": "view-in-github",
        "colab_type": "text"
      },
      "source": [
        "<a href=\"https://colab.research.google.com/github/shinome551/MachineLearningSeminar/blob/main/Co_teaching.ipynb\" target=\"_parent\"><img src=\"https://colab.research.google.com/assets/colab-badge.svg\" alt=\"Open In Colab\"/></a>"
      ]
    },
    {
      "cell_type": "code",
      "metadata": {
        "id": "nsUBsJMl_688"
      },
      "source": [
        "import time\n",
        "import matplotlib.pyplot as plt\n",
        "import seaborn as sns\n",
        "import torch\n",
        "import torch.nn as nn\n",
        "import torch.nn.functional as F\n",
        "from torch.utils.data import DataLoader\n",
        "from torch.optim import Adam\n",
        "from torch.optim.lr_scheduler import LambdaLR\n",
        "import torchvision.transforms as T\n",
        "from torchvision.datasets import MNIST\n",
        "device = torch.device('cuda:0')"
      ],
      "execution_count": 6,
      "outputs": []
    },
    {
      "cell_type": "code",
      "metadata": {
        "id": "8Sn0kCQWBQW5"
      },
      "source": [
        "from pylab import rcParams\n",
        "rcParams['figure.figsize'] = 8,4.5\n",
        "sns.set()"
      ],
      "execution_count": 7,
      "outputs": []
    },
    {
      "cell_type": "markdown",
      "metadata": {
        "id": "RRMDH9JSDA5f"
      },
      "source": [
        "# MNIST dataset"
      ]
    },
    {
      "cell_type": "code",
      "metadata": {
        "id": "m4-TGipOBY-p"
      },
      "source": [
        "transform = T.Compose([\n",
        "    T.ToTensor(),\n",
        "    T.Normalize(0.5, 0.5)\n",
        "])\n",
        "trainset = MNIST(root='./data', train=True, download=True, transform=transform)\n",
        "testset = MNIST(root='./data', train=False, download=True, transform=transform)"
      ],
      "execution_count": 8,
      "outputs": []
    },
    {
      "cell_type": "markdown",
      "metadata": {
        "id": "UhliLawZCvp3"
      },
      "source": [
        "# Label Noise"
      ]
    },
    {
      "cell_type": "code",
      "metadata": {
        "colab": {
          "base_uri": "https://localhost:8080/",
          "height": 311
        },
        "id": "PKnxIEC68CCJ",
        "outputId": "4da7a8cb-588e-4d65-e1c2-9d428a1c7c03"
      },
      "source": [
        "idx = 59915 # 10994\n",
        "plt.imshow(trainset.data[idx], cmap='gray')\n",
        "plt.title(trainset.targets[idx].item())\n",
        "\n",
        "plt.grid(False)\n",
        "plt.xticks(color='w')\n",
        "plt.yticks(color='w')\n",
        "plt.show()"
      ],
      "execution_count": 9,
      "outputs": [
        {
          "output_type": "display_data",
          "data": {
            "image/png": "[encoded data removed]",
            "text/plain": [
              "<Figure size 576x324 with 1 Axes>"
            ]
          },
          "metadata": {
            "tags": []
          }
        }
      ]
    },
    {
      "cell_type": "code",
      "metadata": {
        "id": "nwA3v65KSkR8",
        "colab": {
          "base_uri": "https://localhost:8080/"
        },
        "outputId": "29adda58-5ef3-4d52-f1ed-af891b0a594f"
      },
      "source": [
        "## label transition matrix\n",
        "noise_type = \"symmetry\"\n",
        "noise_rate = 0.2\n",
        "num_classes = 10\n",
        "if noise_type == \"symmetry\":\n",
        "    Q = torch.empty(size=(num_classes, num_classes))\n",
        "    Q.fill_(noise_rate / (num_classes - 1))\n",
        "    Q += (1.0 - noise_rate - Q[0,0]) * torch.eye(10)\n",
        "else:\n",
        "    pass\n",
        "print(Q[0])"
      ],
      "execution_count": 10,
      "outputs": [
        {
          "output_type": "stream",
          "text": [
            "tensor([0.8000, 0.0222, 0.0222, 0.0222, 0.0222, 0.0222, 0.0222, 0.0222, 0.0222,\n",
            "        0.0222])\n"
          ],
          "name": "stdout"
        }
      ]
    },
    {
      "cell_type": "code",
      "metadata": {
        "colab": {
          "base_uri": "https://localhost:8080/"
        },
        "id": "0AsLaD9VEYmG",
        "outputId": "f04392a4-f688-4339-d21a-d446bc67a2b5"
      },
      "source": [
        "torch.multinomial(torch.tensor([1.,2.,8.]), 1)"
      ],
      "execution_count": 11,
      "outputs": [
        {
          "output_type": "execute_result",
          "data": {
            "text/plain": [
              "tensor([2])"
            ]
          },
          "metadata": {
            "tags": []
          },
          "execution_count": 11
        }
      ]
    },
    {
      "cell_type": "code",
      "metadata": {
        "id": "uUFWqH0eZhR9"
      },
      "source": [
        "noised_trainset = MNIST(root='./data', train=True, download=True, transform=transform)\n",
        "noised_trainset.targets = torch.multinomial(Q[trainset.targets], 1)"
      ],
      "execution_count": 12,
      "outputs": []
    },
    {
      "cell_type": "code",
      "metadata": {
        "colab": {
          "base_uri": "https://localhost:8080/"
        },
        "id": "htbdsnQXGRL2",
        "outputId": "602b3ed4-6269-4fe2-a36f-ab22c6849b0f"
      },
      "source": [
        "class_id, num_per_class = torch.unique(trainset.targets, return_counts=True)\n",
        "print(f\"train data per class:{dict(zip(class_id.tolist(), num_per_class.tolist()))}\")\n",
        "class_id, num_per_class = torch.unique(testset.targets, return_counts=True)\n",
        "print(f\"test data per class:{dict(zip(class_id.tolist(), num_per_class.tolist()))}\")\n",
        "class_id, num_per_class = torch.unique(noised_trainset.targets, return_counts=True)\n",
        "print(f\"noised train data per class:{dict(zip(class_id.tolist(), num_per_class.tolist()))}\")"
      ],
      "execution_count": 13,
      "outputs": [
        {
          "output_type": "stream",
          "text": [
            "train data per class:{0: 5923, 1: 6742, 2: 5958, 3: 6131, 4: 5842, 5: 5421, 6: 5918, 7: 6265, 8: 5851, 9: 5949}\n",
            "test data per class:{0: 980, 1: 1135, 2: 1032, 3: 1010, 4: 982, 5: 892, 6: 958, 7: 1028, 8: 974, 9: 1009}\n",
            "noised train data per class:{0: 5910, 1: 6582, 2: 6014, 3: 6036, 4: 5895, 5: 5529, 6: 5968, 7: 6179, 8: 5871, 9: 6016}\n"
          ],
          "name": "stdout"
        }
      ]
    },
    {
      "cell_type": "code",
      "metadata": {
        "id": "z-Ote6dZ0dtr"
      },
      "source": [
        "batchsize = 128\n",
        "trainloader = DataLoader(noised_trainset, batch_size=batchsize, shuffle=True, pin_memory=True, num_workers=2, drop_last=True)\n",
        "testloader = DataLoader(testset, batch_size=batchsize, shuffle=False, pin_memory=True, num_workers=2)"
      ],
      "execution_count": 14,
      "outputs": []
    },
    {
      "cell_type": "markdown",
      "metadata": {
        "id": "K7yUeoJZCEtv"
      },
      "source": [
        "# Standard"
      ]
    },
    {
      "cell_type": "code",
      "metadata": {
        "id": "3Piebxo4m8Bf"
      },
      "source": [
        "def train(model, optimizer, trainloader, device):\n",
        "    model.train()\n",
        "    trainloss = 0\n",
        "    for (inputs, labels) in trainloader:\n",
        "        inputs, labels = inputs.to(device), labels.to(device)\n",
        "        optimizer.zero_grad()\n",
        "        outputs = model(inputs)\n",
        "        loss = F.cross_entropy(outputs, labels)\n",
        "        loss.backward()\n",
        "        optimizer.step()\n",
        "        trainloss += loss.item()\n",
        "\n",
        "    trainloss = trainloss / len(trainloader)\n",
        "    return trainloss\n",
        "\n",
        "\n",
        "def test(model, testloader, device):\n",
        "    model.eval()\n",
        "    correct = 0\n",
        "    with torch.no_grad():\n",
        "        for (inputs, labels) in testloader:\n",
        "            inputs, labels = inputs.to(device), labels.to(device)\n",
        "            outputs = model(inputs)\n",
        "            pred = torch.argmax(outputs, 1)\n",
        "            correct += (pred == labels).sum().item()\n",
        "    acc = 100 * correct / len(testloader.dataset)\n",
        "    return acc"
      ],
      "execution_count": 15,
      "outputs": []
    },
    {
      "cell_type": "code",
      "metadata": {
        "id": "9zBOpdLV0lSi"
      },
      "source": [
        "model = nn.Sequential(\n",
        "    nn.Flatten(),\n",
        "    nn.Linear(784, 256),\n",
        "    nn.ReLU(),\n",
        "    nn.Linear(256, 10),\n",
        ")\n",
        "model.to(device)\n",
        "\n",
        "lr = 0.001\n",
        "optimizer = Adam(model.parameters(), lr=lr)\n",
        "scheduler = LambdaLR(optimizer, lr_lambda=\n",
        "                     lambda epoch: (200 - epoch) / 120 if epoch > 80 else 1.0)"
      ],
      "execution_count": 16,
      "outputs": []
    },
    {
      "cell_type": "code",
      "metadata": {
        "id": "vwJFdAJw8t3T",
        "colab": {
          "base_uri": "https://localhost:8080/"
        },
        "outputId": "0f722aeb-c655-4100-fbc2-c2fdee58465f"
      },
      "source": [
        "num_epoch = 200\n",
        "start = time.time()\n",
        "trainloss_list = []\n",
        "accuracy_list = []\n",
        "for epoch in range(num_epoch):\n",
        "    trainloss = train(model, optimizer, trainloader, device)\n",
        "    accuracy = test(model, testloader, device)\n",
        "    print(f\"epoch:{epoch+1}, trainloss:{trainloss:.3f}, accuracy:{accuracy:.1f}%\")\n",
        "    trainloss_list.append(trainloss)\n",
        "    accuracy_list.append(accuracy)\n",
        "    scheduler.step()\n",
        "\n",
        "time_per_epochs = (time.time() - start) / num_epoch\n",
        "print(f\"time per epochs:{time_per_epochs:.3f}s, top acc:{max(accuracy_list):.1f}%\")"
      ],
      "execution_count": 17,
      "outputs": [
        {
          "output_type": "stream",
          "text": [
            "epoch:1, trainloss:1.262, accuracy:91.9%\n",
            "epoch:2, trainloss:1.137, accuracy:94.0%\n",
            "epoch:3, trainloss:1.102, accuracy:94.3%\n",
            "epoch:4, trainloss:1.078, accuracy:95.7%\n",
            "epoch:5, trainloss:1.064, accuracy:95.6%\n",
            "epoch:6, trainloss:1.052, accuracy:95.6%\n",
            "epoch:7, trainloss:1.042, accuracy:96.3%\n",
            "epoch:8, trainloss:1.032, accuracy:95.9%\n",
            "epoch:9, trainloss:1.026, accuracy:96.0%\n",
            "epoch:10, trainloss:1.019, accuracy:96.6%\n",
            "epoch:11, trainloss:1.010, accuracy:96.7%\n",
            "epoch:12, trainloss:1.003, accuracy:96.3%\n",
            "epoch:13, trainloss:0.998, accuracy:96.6%\n",
            "epoch:14, trainloss:0.994, accuracy:95.9%\n",
            "epoch:15, trainloss:0.989, accuracy:96.3%\n",
            "epoch:16, trainloss:0.981, accuracy:96.1%\n",
            "epoch:17, trainloss:0.976, accuracy:96.7%\n",
            "epoch:18, trainloss:0.973, accuracy:96.5%\n",
            "epoch:19, trainloss:0.964, accuracy:96.4%\n",
            "epoch:20, trainloss:0.960, accuracy:96.3%\n",
            "epoch:21, trainloss:0.956, accuracy:95.9%\n",
            "epoch:22, trainloss:0.951, accuracy:96.4%\n",
            "epoch:23, trainloss:0.945, accuracy:96.0%\n",
            "epoch:24, trainloss:0.940, accuracy:96.2%\n",
            "epoch:25, trainloss:0.934, accuracy:96.1%\n",
            "epoch:26, trainloss:0.930, accuracy:96.2%\n",
            "epoch:27, trainloss:0.927, accuracy:95.8%\n",
            "epoch:28, trainloss:0.922, accuracy:95.9%\n",
            "epoch:29, trainloss:0.915, accuracy:95.5%\n",
            "epoch:30, trainloss:0.909, accuracy:96.0%\n",
            "epoch:31, trainloss:0.906, accuracy:95.1%\n",
            "epoch:32, trainloss:0.902, accuracy:96.0%\n",
            "epoch:33, trainloss:0.899, accuracy:95.1%\n",
            "epoch:34, trainloss:0.895, accuracy:95.0%\n",
            "epoch:35, trainloss:0.889, accuracy:94.7%\n",
            "epoch:36, trainloss:0.886, accuracy:95.5%\n",
            "epoch:37, trainloss:0.881, accuracy:95.2%\n",
            "epoch:38, trainloss:0.874, accuracy:94.8%\n",
            "epoch:39, trainloss:0.871, accuracy:94.4%\n",
            "epoch:40, trainloss:0.869, accuracy:94.6%\n",
            "epoch:41, trainloss:0.862, accuracy:94.9%\n",
            "epoch:42, trainloss:0.860, accuracy:95.2%\n",
            "epoch:43, trainloss:0.854, accuracy:94.2%\n",
            "epoch:44, trainloss:0.852, accuracy:94.2%\n",
            "epoch:45, trainloss:0.846, accuracy:93.7%\n",
            "epoch:46, trainloss:0.844, accuracy:94.3%\n",
            "epoch:47, trainloss:0.841, accuracy:94.5%\n",
            "epoch:48, trainloss:0.837, accuracy:94.1%\n",
            "epoch:49, trainloss:0.832, accuracy:93.8%\n",
            "epoch:50, trainloss:0.828, accuracy:94.0%\n",
            "epoch:51, trainloss:0.824, accuracy:94.0%\n",
            "epoch:52, trainloss:0.822, accuracy:94.3%\n",
            "epoch:53, trainloss:0.820, accuracy:93.1%\n",
            "epoch:54, trainloss:0.817, accuracy:93.3%\n",
            "epoch:55, trainloss:0.810, accuracy:92.9%\n",
            "epoch:56, trainloss:0.809, accuracy:94.0%\n",
            "epoch:57, trainloss:0.805, accuracy:93.1%\n",
            "epoch:58, trainloss:0.801, accuracy:92.3%\n",
            "epoch:59, trainloss:0.799, accuracy:93.0%\n",
            "epoch:60, trainloss:0.795, accuracy:92.8%\n",
            "epoch:61, trainloss:0.789, accuracy:93.2%\n",
            "epoch:62, trainloss:0.790, accuracy:93.5%\n",
            "epoch:63, trainloss:0.783, accuracy:91.8%\n",
            "epoch:64, trainloss:0.784, accuracy:93.1%\n",
            "epoch:65, trainloss:0.782, accuracy:92.3%\n",
            "epoch:66, trainloss:0.775, accuracy:92.0%\n",
            "epoch:67, trainloss:0.772, accuracy:92.6%\n",
            "epoch:68, trainloss:0.770, accuracy:92.4%\n",
            "epoch:69, trainloss:0.769, accuracy:92.6%\n",
            "epoch:70, trainloss:0.763, accuracy:91.9%\n",
            "epoch:71, trainloss:0.760, accuracy:92.1%\n",
            "epoch:72, trainloss:0.761, accuracy:91.7%\n",
            "epoch:73, trainloss:0.754, accuracy:91.6%\n",
            "epoch:74, trainloss:0.753, accuracy:91.8%\n",
            "epoch:75, trainloss:0.752, accuracy:90.4%\n",
            "epoch:76, trainloss:0.746, accuracy:91.9%\n",
            "epoch:77, trainloss:0.747, accuracy:91.4%\n",
            "epoch:78, trainloss:0.741, accuracy:91.7%\n",
            "epoch:79, trainloss:0.739, accuracy:91.0%\n",
            "epoch:80, trainloss:0.737, accuracy:91.2%\n",
            "epoch:81, trainloss:0.732, accuracy:89.7%\n",
            "epoch:82, trainloss:0.731, accuracy:90.8%\n",
            "epoch:83, trainloss:0.728, accuracy:90.9%\n",
            "epoch:84, trainloss:0.722, accuracy:90.7%\n",
            "epoch:85, trainloss:0.719, accuracy:91.2%\n",
            "epoch:86, trainloss:0.716, accuracy:91.2%\n",
            "epoch:87, trainloss:0.714, accuracy:90.4%\n",
            "epoch:88, trainloss:0.709, accuracy:90.1%\n",
            "epoch:89, trainloss:0.706, accuracy:90.0%\n",
            "epoch:90, trainloss:0.702, accuracy:90.0%\n",
            "epoch:91, trainloss:0.699, accuracy:88.7%\n",
            "epoch:92, trainloss:0.695, accuracy:90.4%\n",
            "epoch:93, trainloss:0.694, accuracy:89.7%\n",
            "epoch:94, trainloss:0.693, accuracy:89.5%\n",
            "epoch:95, trainloss:0.685, accuracy:88.8%\n",
            "epoch:96, trainloss:0.685, accuracy:89.9%\n",
            "epoch:97, trainloss:0.681, accuracy:89.7%\n",
            "epoch:98, trainloss:0.678, accuracy:88.2%\n",
            "epoch:99, trainloss:0.675, accuracy:89.6%\n",
            "epoch:100, trainloss:0.669, accuracy:89.4%\n",
            "epoch:101, trainloss:0.671, accuracy:89.2%\n",
            "epoch:102, trainloss:0.663, accuracy:88.4%\n",
            "epoch:103, trainloss:0.663, accuracy:89.1%\n",
            "epoch:104, trainloss:0.658, accuracy:88.5%\n",
            "epoch:105, trainloss:0.656, accuracy:88.6%\n",
            "epoch:106, trainloss:0.651, accuracy:87.7%\n",
            "epoch:107, trainloss:0.650, accuracy:88.6%\n",
            "epoch:108, trainloss:0.646, accuracy:89.0%\n",
            "epoch:109, trainloss:0.643, accuracy:88.3%\n",
            "epoch:110, trainloss:0.643, accuracy:87.4%\n",
            "epoch:111, trainloss:0.637, accuracy:89.2%\n",
            "epoch:112, trainloss:0.635, accuracy:88.2%\n",
            "epoch:113, trainloss:0.632, accuracy:88.3%\n",
            "epoch:114, trainloss:0.632, accuracy:88.5%\n",
            "epoch:115, trainloss:0.625, accuracy:88.3%\n",
            "epoch:116, trainloss:0.623, accuracy:87.5%\n",
            "epoch:117, trainloss:0.621, accuracy:88.2%\n",
            "epoch:118, trainloss:0.619, accuracy:88.2%\n",
            "epoch:119, trainloss:0.615, accuracy:88.1%\n",
            "epoch:120, trainloss:0.612, accuracy:87.9%\n",
            "epoch:121, trainloss:0.609, accuracy:86.9%\n",
            "epoch:122, trainloss:0.607, accuracy:87.0%\n",
            "epoch:123, trainloss:0.601, accuracy:87.2%\n",
            "epoch:124, trainloss:0.599, accuracy:86.8%\n",
            "epoch:125, trainloss:0.597, accuracy:87.2%\n",
            "epoch:126, trainloss:0.594, accuracy:87.3%\n",
            "epoch:127, trainloss:0.594, accuracy:87.9%\n",
            "epoch:128, trainloss:0.590, accuracy:87.6%\n",
            "epoch:129, trainloss:0.587, accuracy:86.4%\n",
            "epoch:130, trainloss:0.585, accuracy:87.3%\n",
            "epoch:131, trainloss:0.580, accuracy:86.8%\n",
            "epoch:132, trainloss:0.580, accuracy:86.8%\n",
            "epoch:133, trainloss:0.577, accuracy:86.8%\n",
            "epoch:134, trainloss:0.574, accuracy:87.1%\n",
            "epoch:135, trainloss:0.571, accuracy:85.9%\n",
            "epoch:136, trainloss:0.569, accuracy:86.2%\n",
            "epoch:137, trainloss:0.566, accuracy:86.5%\n",
            "epoch:138, trainloss:0.564, accuracy:87.1%\n",
            "epoch:139, trainloss:0.563, accuracy:85.9%\n",
            "epoch:140, trainloss:0.559, accuracy:86.9%\n",
            "epoch:141, trainloss:0.557, accuracy:86.2%\n",
            "epoch:142, trainloss:0.551, accuracy:85.9%\n",
            "epoch:143, trainloss:0.552, accuracy:86.6%\n",
            "epoch:144, trainloss:0.548, accuracy:86.3%\n",
            "epoch:145, trainloss:0.546, accuracy:85.1%\n",
            "epoch:146, trainloss:0.544, accuracy:85.6%\n",
            "epoch:147, trainloss:0.541, accuracy:86.2%\n",
            "epoch:148, trainloss:0.538, accuracy:85.6%\n",
            "epoch:149, trainloss:0.535, accuracy:86.1%\n",
            "epoch:150, trainloss:0.535, accuracy:84.9%\n",
            "epoch:151, trainloss:0.532, accuracy:85.6%\n",
            "epoch:152, trainloss:0.529, accuracy:85.7%\n",
            "epoch:153, trainloss:0.527, accuracy:85.4%\n",
            "epoch:154, trainloss:0.524, accuracy:85.3%\n",
            "epoch:155, trainloss:0.522, accuracy:85.5%\n",
            "epoch:156, trainloss:0.520, accuracy:85.1%\n",
            "epoch:157, trainloss:0.518, accuracy:85.5%\n",
            "epoch:158, trainloss:0.516, accuracy:84.9%\n",
            "epoch:159, trainloss:0.511, accuracy:84.9%\n",
            "epoch:160, trainloss:0.511, accuracy:84.5%\n",
            "epoch:161, trainloss:0.509, accuracy:84.3%\n",
            "epoch:162, trainloss:0.506, accuracy:85.2%\n",
            "epoch:163, trainloss:0.505, accuracy:84.4%\n",
            "epoch:164, trainloss:0.504, accuracy:85.5%\n",
            "epoch:165, trainloss:0.501, accuracy:84.0%\n",
            "epoch:166, trainloss:0.498, accuracy:85.0%\n",
            "epoch:167, trainloss:0.496, accuracy:84.7%\n",
            "epoch:168, trainloss:0.494, accuracy:84.8%\n",
            "epoch:169, trainloss:0.493, accuracy:85.0%\n",
            "epoch:170, trainloss:0.491, accuracy:84.6%\n",
            "epoch:171, trainloss:0.487, accuracy:84.7%\n",
            "epoch:172, trainloss:0.486, accuracy:84.4%\n",
            "epoch:173, trainloss:0.484, accuracy:84.3%\n",
            "epoch:174, trainloss:0.482, accuracy:84.2%\n",
            "epoch:175, trainloss:0.480, accuracy:83.8%\n",
            "epoch:176, trainloss:0.478, accuracy:84.9%\n",
            "epoch:177, trainloss:0.475, accuracy:84.6%\n",
            "epoch:178, trainloss:0.475, accuracy:84.7%\n",
            "epoch:179, trainloss:0.473, accuracy:84.0%\n",
            "epoch:180, trainloss:0.471, accuracy:84.0%\n",
            "epoch:181, trainloss:0.469, accuracy:83.8%\n",
            "epoch:182, trainloss:0.467, accuracy:84.1%\n",
            "epoch:183, trainloss:0.465, accuracy:84.0%\n",
            "epoch:184, trainloss:0.464, accuracy:84.1%\n",
            "epoch:185, trainloss:0.462, accuracy:84.2%\n",
            "epoch:186, trainloss:0.461, accuracy:84.3%\n",
            "epoch:187, trainloss:0.458, accuracy:84.4%\n",
            "epoch:188, trainloss:0.457, accuracy:84.6%\n",
            "epoch:189, trainloss:0.455, accuracy:84.1%\n",
            "epoch:190, trainloss:0.453, accuracy:84.3%\n",
            "epoch:191, trainloss:0.452, accuracy:84.0%\n",
            "epoch:192, trainloss:0.451, accuracy:84.2%\n",
            "epoch:193, trainloss:0.449, accuracy:84.2%\n",
            "epoch:194, trainloss:0.448, accuracy:83.9%\n",
            "epoch:195, trainloss:0.446, accuracy:84.0%\n",
            "epoch:196, trainloss:0.445, accuracy:84.0%\n",
            "epoch:197, trainloss:0.443, accuracy:84.1%\n",
            "epoch:198, trainloss:0.442, accuracy:84.1%\n",
            "epoch:199, trainloss:0.441, accuracy:84.1%\n",
            "epoch:200, trainloss:0.439, accuracy:84.1%\n",
            "time per epochs:10.884s, top acc:96.7%\n"
          ],
          "name": "stdout"
        }
      ]
    },
    {
      "cell_type": "markdown",
      "metadata": {
        "id": "lk3NvOd9BfYO"
      },
      "source": [
        "# Co-teaching"
      ]
    },
    {
      "cell_type": "code",
      "metadata": {
        "id": "uITXWftFuEEt"
      },
      "source": [
        "def co_teaching(model_f, model_g, lamd, optimizer, trainloader, device):\n",
        "    v_batch_size = int(lamd * trainloader.batch_size) \n",
        "    model_f.train()\n",
        "    model_g.train()\n",
        "    trainloss_f = 0\n",
        "    trainloss_g = 0\n",
        "    for (inputs, labels) in trainloader:\n",
        "        inputs, labels = inputs.to(device), labels.to(device)\n",
        "        optimizer.zero_grad()\n",
        "        ## model_f's forward\n",
        "        outputs_f = model_f(inputs)\n",
        "        loss_f = F.cross_entropy(outputs_f, labels, reduction='none')\n",
        "        idx = torch.argsort(loss_f.data)[v_batch_size-1]\n",
        "        weight_f = (loss_f.data <= loss_f.data[idx]).to(torch.float32) / v_batch_size\n",
        "        ## model_g's forward\n",
        "        outputs_g = model_g(inputs)\n",
        "        loss_g = F.cross_entropy(outputs_g, labels, reduction='none')\n",
        "        idx = torch.argsort(loss_g.data)[v_batch_size-1]\n",
        "        weight_g = (loss_g.data <= loss_g.data[idx]).to(torch.float32) / v_batch_size\n",
        "        ## backward\n",
        "        loss_f.backward(weight_g)\n",
        "        loss_g.backward(weight_f)\n",
        "        optimizer.step()\n",
        "        trainloss_f += (loss_f.data * weight_g).mean().item()\n",
        "        trainloss_g += (loss_g.data * weight_f).mean().item()\n",
        "\n",
        "    trainloss_f = trainloss_f / len(trainloader)\n",
        "    trainloss_g = trainloss_g / len(trainloader)\n",
        "    return trainloss_f, trainloss_g"
      ],
      "execution_count": 18,
      "outputs": []
    },
    {
      "cell_type": "code",
      "metadata": {
        "id": "XI8jDS1pM4My"
      },
      "source": [
        "model_f = nn.Sequential(\n",
        "    nn.Flatten(),\n",
        "    nn.Linear(784, 256),\n",
        "    nn.ReLU(),\n",
        "    nn.Linear(256, 10),\n",
        ")\n",
        "model_f.to(device)\n",
        "\n",
        "model_g = nn.Sequential(\n",
        "    nn.Flatten(),\n",
        "    nn.Linear(784, 256),\n",
        "    nn.ReLU(),\n",
        "    nn.Linear(256, 10),\n",
        ")\n",
        "model_g.to(device)\n",
        "\n",
        "lr = 0.001\n",
        "optimizer = Adam(list(model_f.parameters()) + list(model_g.parameters()), lr=lr)\n",
        "scheduler = LambdaLR(optimizer, lr_lambda=\n",
        "                     lambda epoch: (200 - epoch) / 120 if epoch > 80 else 1.0)"
      ],
      "execution_count": 19,
      "outputs": []
    },
    {
      "cell_type": "code",
      "metadata": {
        "colab": {
          "base_uri": "https://localhost:8080/"
        },
        "id": "0Q1jv_CzqT9F",
        "outputId": "6c6d4d4d-5405-450a-896c-dfe24731c9bf"
      },
      "source": [
        "num_epoch = 200\n",
        "E_k = 10\n",
        "start = time.time()\n",
        "trainloss_list_coteaching = []\n",
        "accuracy_list_coteaching = []\n",
        "for epoch in range(num_epoch):\n",
        "    lamd = 1.0 - min(noise_rate * epoch / E_k,  noise_rate)\n",
        "    trainloss = min(co_teaching(model_f, model_g, lamd, optimizer, trainloader, device))\n",
        "    accuracy = max(test(model_f, testloader, device), test(model_g, testloader, device))\n",
        "    print(f\"epoch:{epoch+1}, trainloss:{trainloss:.3f}, accuracy:{accuracy:.1f}%\")\n",
        "    trainloss_list_coteaching.append(trainloss)\n",
        "    accuracy_list_coteaching.append(accuracy)\n",
        "    scheduler.step()\n",
        "\n",
        "time_per_epochs = (time.time() - start) / num_epoch\n",
        "print(f\"time per epochs:{time_per_epochs:.3f}s, top acc:{max(accuracy_list_coteaching):.1f}%\")"
      ],
      "execution_count": 20,
      "outputs": [
        {
          "output_type": "stream",
          "text": [
            "epoch:1, trainloss:0.010, accuracy:92.1%\n",
            "epoch:2, trainloss:0.008, accuracy:94.5%\n",
            "epoch:3, trainloss:0.007, accuracy:94.6%\n",
            "epoch:4, trainloss:0.006, accuracy:95.8%\n",
            "epoch:5, trainloss:0.006, accuracy:96.2%\n",
            "epoch:6, trainloss:0.005, accuracy:96.0%\n",
            "epoch:7, trainloss:0.004, accuracy:96.4%\n",
            "epoch:8, trainloss:0.003, accuracy:96.7%\n",
            "epoch:9, trainloss:0.002, accuracy:95.8%\n",
            "epoch:10, trainloss:0.001, accuracy:96.6%\n",
            "epoch:11, trainloss:0.001, accuracy:96.7%\n",
            "epoch:12, trainloss:0.001, accuracy:96.4%\n",
            "epoch:13, trainloss:0.001, accuracy:96.0%\n",
            "epoch:14, trainloss:0.001, accuracy:96.7%\n",
            "epoch:15, trainloss:0.001, accuracy:96.9%\n",
            "epoch:16, trainloss:0.001, accuracy:96.9%\n",
            "epoch:17, trainloss:0.001, accuracy:96.4%\n",
            "epoch:18, trainloss:0.001, accuracy:96.9%\n",
            "epoch:19, trainloss:0.001, accuracy:97.1%\n",
            "epoch:20, trainloss:0.001, accuracy:96.9%\n",
            "epoch:21, trainloss:0.001, accuracy:97.0%\n",
            "epoch:22, trainloss:0.001, accuracy:96.4%\n",
            "epoch:23, trainloss:0.001, accuracy:96.5%\n",
            "epoch:24, trainloss:0.001, accuracy:97.3%\n",
            "epoch:25, trainloss:0.001, accuracy:95.9%\n",
            "epoch:26, trainloss:0.001, accuracy:97.0%\n",
            "epoch:27, trainloss:0.001, accuracy:97.1%\n",
            "epoch:28, trainloss:0.001, accuracy:96.3%\n",
            "epoch:29, trainloss:0.001, accuracy:96.7%\n",
            "epoch:30, trainloss:0.001, accuracy:97.2%\n",
            "epoch:31, trainloss:0.001, accuracy:97.3%\n",
            "epoch:32, trainloss:0.001, accuracy:96.9%\n",
            "epoch:33, trainloss:0.001, accuracy:97.1%\n",
            "epoch:34, trainloss:0.001, accuracy:96.7%\n",
            "epoch:35, trainloss:0.001, accuracy:96.8%\n",
            "epoch:36, trainloss:0.001, accuracy:96.0%\n",
            "epoch:37, trainloss:0.001, accuracy:97.2%\n",
            "epoch:38, trainloss:0.001, accuracy:96.7%\n",
            "epoch:39, trainloss:0.001, accuracy:96.9%\n",
            "epoch:40, trainloss:0.001, accuracy:97.0%\n",
            "epoch:41, trainloss:0.001, accuracy:96.8%\n",
            "epoch:42, trainloss:0.001, accuracy:96.7%\n",
            "epoch:43, trainloss:0.001, accuracy:96.9%\n",
            "epoch:44, trainloss:0.001, accuracy:96.5%\n",
            "epoch:45, trainloss:0.001, accuracy:96.6%\n",
            "epoch:46, trainloss:0.001, accuracy:96.4%\n",
            "epoch:47, trainloss:0.001, accuracy:96.8%\n",
            "epoch:48, trainloss:0.001, accuracy:96.6%\n",
            "epoch:49, trainloss:0.001, accuracy:96.8%\n",
            "epoch:50, trainloss:0.001, accuracy:97.0%\n",
            "epoch:51, trainloss:0.001, accuracy:96.8%\n",
            "epoch:52, trainloss:0.001, accuracy:96.3%\n",
            "epoch:53, trainloss:0.001, accuracy:96.7%\n",
            "epoch:54, trainloss:0.001, accuracy:96.5%\n",
            "epoch:55, trainloss:0.001, accuracy:96.3%\n",
            "epoch:56, trainloss:0.001, accuracy:96.5%\n",
            "epoch:57, trainloss:0.001, accuracy:96.9%\n",
            "epoch:58, trainloss:0.001, accuracy:95.8%\n",
            "epoch:59, trainloss:0.001, accuracy:96.2%\n",
            "epoch:60, trainloss:0.001, accuracy:96.7%\n",
            "epoch:61, trainloss:0.001, accuracy:96.6%\n",
            "epoch:62, trainloss:0.001, accuracy:96.2%\n",
            "epoch:63, trainloss:0.001, accuracy:96.8%\n",
            "epoch:64, trainloss:0.001, accuracy:96.0%\n",
            "epoch:65, trainloss:0.001, accuracy:96.8%\n",
            "epoch:66, trainloss:0.001, accuracy:96.4%\n",
            "epoch:67, trainloss:0.001, accuracy:96.4%\n",
            "epoch:68, trainloss:0.001, accuracy:96.2%\n",
            "epoch:69, trainloss:0.001, accuracy:96.1%\n",
            "epoch:70, trainloss:0.001, accuracy:96.0%\n",
            "epoch:71, trainloss:0.001, accuracy:96.8%\n",
            "epoch:72, trainloss:0.001, accuracy:96.2%\n",
            "epoch:73, trainloss:0.001, accuracy:96.0%\n",
            "epoch:74, trainloss:0.001, accuracy:96.2%\n",
            "epoch:75, trainloss:0.001, accuracy:96.2%\n",
            "epoch:76, trainloss:0.001, accuracy:96.2%\n",
            "epoch:77, trainloss:0.001, accuracy:96.2%\n",
            "epoch:78, trainloss:0.001, accuracy:96.2%\n",
            "epoch:79, trainloss:0.001, accuracy:96.3%\n",
            "epoch:80, trainloss:0.001, accuracy:96.3%\n",
            "epoch:81, trainloss:0.001, accuracy:96.6%\n",
            "epoch:82, trainloss:0.001, accuracy:96.1%\n",
            "epoch:83, trainloss:0.000, accuracy:96.2%\n",
            "epoch:84, trainloss:0.001, accuracy:96.4%\n",
            "epoch:85, trainloss:0.001, accuracy:95.9%\n",
            "epoch:86, trainloss:0.001, accuracy:96.0%\n",
            "epoch:87, trainloss:0.000, accuracy:96.0%\n",
            "epoch:88, trainloss:0.000, accuracy:95.5%\n",
            "epoch:89, trainloss:0.001, accuracy:96.5%\n",
            "epoch:90, trainloss:0.000, accuracy:96.3%\n",
            "epoch:91, trainloss:0.001, accuracy:96.0%\n",
            "epoch:92, trainloss:0.000, accuracy:96.0%\n",
            "epoch:93, trainloss:0.000, accuracy:96.1%\n",
            "epoch:94, trainloss:0.001, accuracy:95.9%\n",
            "epoch:95, trainloss:0.000, accuracy:96.1%\n",
            "epoch:96, trainloss:0.000, accuracy:95.7%\n",
            "epoch:97, trainloss:0.000, accuracy:95.5%\n",
            "epoch:98, trainloss:0.001, accuracy:96.1%\n",
            "epoch:99, trainloss:0.000, accuracy:96.0%\n",
            "epoch:100, trainloss:0.000, accuracy:96.2%\n",
            "epoch:101, trainloss:0.000, accuracy:95.8%\n",
            "epoch:102, trainloss:0.000, accuracy:96.2%\n",
            "epoch:103, trainloss:0.000, accuracy:96.0%\n",
            "epoch:104, trainloss:0.000, accuracy:96.2%\n",
            "epoch:105, trainloss:0.000, accuracy:96.2%\n",
            "epoch:106, trainloss:0.000, accuracy:96.2%\n",
            "epoch:107, trainloss:0.000, accuracy:95.9%\n",
            "epoch:108, trainloss:0.000, accuracy:95.6%\n",
            "epoch:109, trainloss:0.000, accuracy:95.9%\n",
            "epoch:110, trainloss:0.000, accuracy:95.5%\n",
            "epoch:111, trainloss:0.000, accuracy:96.2%\n",
            "epoch:112, trainloss:0.000, accuracy:96.1%\n",
            "epoch:113, trainloss:0.000, accuracy:95.9%\n",
            "epoch:114, trainloss:0.000, accuracy:95.3%\n",
            "epoch:115, trainloss:0.000, accuracy:95.9%\n",
            "epoch:116, trainloss:0.000, accuracy:95.5%\n",
            "epoch:117, trainloss:0.000, accuracy:95.8%\n",
            "epoch:118, trainloss:0.000, accuracy:95.9%\n",
            "epoch:119, trainloss:0.000, accuracy:95.8%\n",
            "epoch:120, trainloss:0.000, accuracy:95.7%\n",
            "epoch:121, trainloss:0.000, accuracy:95.8%\n",
            "epoch:122, trainloss:0.000, accuracy:95.8%\n",
            "epoch:123, trainloss:0.000, accuracy:95.4%\n",
            "epoch:124, trainloss:0.000, accuracy:95.6%\n",
            "epoch:125, trainloss:0.000, accuracy:95.5%\n",
            "epoch:126, trainloss:0.000, accuracy:95.3%\n",
            "epoch:127, trainloss:0.000, accuracy:95.7%\n",
            "epoch:128, trainloss:0.000, accuracy:95.4%\n",
            "epoch:129, trainloss:0.000, accuracy:95.3%\n",
            "epoch:130, trainloss:0.000, accuracy:95.6%\n",
            "epoch:131, trainloss:0.000, accuracy:95.4%\n",
            "epoch:132, trainloss:0.000, accuracy:95.2%\n",
            "epoch:133, trainloss:0.000, accuracy:95.2%\n",
            "epoch:134, trainloss:0.000, accuracy:95.5%\n",
            "epoch:135, trainloss:0.000, accuracy:95.7%\n",
            "epoch:136, trainloss:0.000, accuracy:95.7%\n",
            "epoch:137, trainloss:0.000, accuracy:95.4%\n",
            "epoch:138, trainloss:0.000, accuracy:95.3%\n",
            "epoch:139, trainloss:0.000, accuracy:95.7%\n",
            "epoch:140, trainloss:0.000, accuracy:95.6%\n",
            "epoch:141, trainloss:0.000, accuracy:95.5%\n",
            "epoch:142, trainloss:0.000, accuracy:95.8%\n",
            "epoch:143, trainloss:0.000, accuracy:94.8%\n",
            "epoch:144, trainloss:0.000, accuracy:95.5%\n",
            "epoch:145, trainloss:0.000, accuracy:95.5%\n",
            "epoch:146, trainloss:0.000, accuracy:95.3%\n",
            "epoch:147, trainloss:0.000, accuracy:95.7%\n",
            "epoch:148, trainloss:0.000, accuracy:95.3%\n",
            "epoch:149, trainloss:0.000, accuracy:95.5%\n",
            "epoch:150, trainloss:0.000, accuracy:95.2%\n",
            "epoch:151, trainloss:0.000, accuracy:95.2%\n",
            "epoch:152, trainloss:0.000, accuracy:95.4%\n",
            "epoch:153, trainloss:0.000, accuracy:95.1%\n",
            "epoch:154, trainloss:0.000, accuracy:95.3%\n",
            "epoch:155, trainloss:0.000, accuracy:95.4%\n",
            "epoch:156, trainloss:0.000, accuracy:95.3%\n",
            "epoch:157, trainloss:0.000, accuracy:95.2%\n",
            "epoch:158, trainloss:0.000, accuracy:95.4%\n",
            "epoch:159, trainloss:0.000, accuracy:95.4%\n",
            "epoch:160, trainloss:0.000, accuracy:95.4%\n",
            "epoch:161, trainloss:0.000, accuracy:95.3%\n",
            "epoch:162, trainloss:0.000, accuracy:95.2%\n",
            "epoch:163, trainloss:0.000, accuracy:94.7%\n",
            "epoch:164, trainloss:0.000, accuracy:95.0%\n",
            "epoch:165, trainloss:0.000, accuracy:95.1%\n",
            "epoch:166, trainloss:0.000, accuracy:95.2%\n",
            "epoch:167, trainloss:0.000, accuracy:95.3%\n",
            "epoch:168, trainloss:0.000, accuracy:95.2%\n",
            "epoch:169, trainloss:0.000, accuracy:95.2%\n",
            "epoch:170, trainloss:0.000, accuracy:95.2%\n",
            "epoch:171, trainloss:0.000, accuracy:95.0%\n",
            "epoch:172, trainloss:0.000, accuracy:95.2%\n",
            "epoch:173, trainloss:0.000, accuracy:95.3%\n",
            "epoch:174, trainloss:0.000, accuracy:95.2%\n",
            "epoch:175, trainloss:0.000, accuracy:95.0%\n",
            "epoch:176, trainloss:0.000, accuracy:95.1%\n",
            "epoch:177, trainloss:0.000, accuracy:94.7%\n",
            "epoch:178, trainloss:0.000, accuracy:95.3%\n",
            "epoch:179, trainloss:0.000, accuracy:95.0%\n",
            "epoch:180, trainloss:0.000, accuracy:95.2%\n",
            "epoch:181, trainloss:0.000, accuracy:95.2%\n",
            "epoch:182, trainloss:0.000, accuracy:95.1%\n",
            "epoch:183, trainloss:0.000, accuracy:95.1%\n",
            "epoch:184, trainloss:0.000, accuracy:95.0%\n",
            "epoch:185, trainloss:0.000, accuracy:95.1%\n",
            "epoch:186, trainloss:0.000, accuracy:95.1%\n",
            "epoch:187, trainloss:0.000, accuracy:95.3%\n",
            "epoch:188, trainloss:0.000, accuracy:95.1%\n",
            "epoch:189, trainloss:0.000, accuracy:95.1%\n",
            "epoch:190, trainloss:0.000, accuracy:95.0%\n",
            "epoch:191, trainloss:0.000, accuracy:95.1%\n",
            "epoch:192, trainloss:0.000, accuracy:95.1%\n",
            "epoch:193, trainloss:0.000, accuracy:95.0%\n",
            "epoch:194, trainloss:0.000, accuracy:95.1%\n",
            "epoch:195, trainloss:0.000, accuracy:95.1%\n",
            "epoch:196, trainloss:0.000, accuracy:94.9%\n",
            "epoch:197, trainloss:0.000, accuracy:94.8%\n",
            "epoch:198, trainloss:0.000, accuracy:95.0%\n",
            "epoch:199, trainloss:0.000, accuracy:95.1%\n",
            "epoch:200, trainloss:0.000, accuracy:95.0%\n",
            "time per epochs:13.504s, top acc:97.3%\n"
          ],
          "name": "stdout"
        }
      ]
    },
    {
      "cell_type": "markdown",
      "metadata": {
        "id": "UsPk8reYCSR2"
      },
      "source": [
        "# Plot"
      ]
    },
    {
      "cell_type": "code",
      "metadata": {
        "colab": {
          "base_uri": "https://localhost:8080/",
          "height": 329
        },
        "id": "NxO7cuWPCobX",
        "outputId": "28511fea-468d-4466-97d0-a52f8f1f247b"
      },
      "source": [
        "fig, ax = plt.subplots(1,2)\n",
        "ax[0].plot(accuracy_list)\n",
        "ax[1].plot(trainloss_list)\n",
        "ax[0].set_title(\"accuracy\")\n",
        "ax[1].set_title(\"trainloss\")\n",
        "fig.tight_layout()\n",
        "plt.show()"
      ],
      "execution_count": 21,
      "outputs": [
        {
          "output_type": "display_data",
          "data": {
            "image/png": "[encoded data removed]",
            "text/plain": [
              "<Figure size 576x324 with 2 Axes>"
            ]
          },
          "metadata": {
            "tags": []
          }
        }
      ]
    },
    {
      "cell_type": "code",
      "metadata": {
        "colab": {
          "base_uri": "https://localhost:8080/",
          "height": 329
        },
        "id": "-ed52zTG1Mxa",
        "outputId": "5f562a3f-adf6-4a28-c708-8d9c946bbfba"
      },
      "source": [
        "fig, ax = plt.subplots(1,2)\n",
        "ax[0].plot(accuracy_list_coteaching)\n",
        "ax[1].plot(trainloss_list_coteaching)\n",
        "ax[0].set_title(\"accuracy\")\n",
        "ax[1].set_title(\"trainloss\")\n",
        "fig.tight_layout()\n",
        "plt.show()"
      ],
      "execution_count": 22,
      "outputs": [
        {
          "output_type": "display_data",
          "data": {
            "image/png": "[encoded data removed]",
            "text/plain": [
              "<Figure size 576x324 with 2 Axes>"
            ]
          },
          "metadata": {
            "tags": []
          }
        }
      ]
    },
    {
      "cell_type": "code",
      "metadata": {
        "colab": {
          "base_uri": "https://localhost:8080/",
          "height": 329
        },
        "id": "zAH9R1ot6U_R",
        "outputId": "0900778f-f9dd-45a8-854a-62e167870ded"
      },
      "source": [
        "fig, ax = plt.subplots(1,2)\n",
        "ax[0].plot(accuracy_list, label=\"standard\")\n",
        "ax[1].plot(trainloss_list, label=\"standard\")\n",
        "ax[0].plot(accuracy_list_coteaching, label=\"co-teaching\")\n",
        "ax[1].plot(trainloss_list_coteaching, label=\"co-teaching\")\n",
        "ax[0].set_title(\"accuracy\")\n",
        "ax[1].set_title(\"trainloss\")\n",
        "fig.tight_layout()\n",
        "ax[0].legend()\n",
        "ax[1].legend()\n",
        "plt.show()"
      ],
      "execution_count": 23,
      "outputs": [
        {
          "output_type": "display_data",
          "data": {
            "image/png": "[encoded data removed]",
            "text/plain": [
              "<Figure size 576x324 with 2 Axes>"
            ]
          },
          "metadata": {
            "tags": []
          }
        }
      ]
    },
    {
      "cell_type": "code",
      "metadata": {
        "id": "njMHo4Nu6ZNg"
      },
      "source": [
        ""
      ],
      "execution_count": 23,
      "outputs": []
    }
  ]
}